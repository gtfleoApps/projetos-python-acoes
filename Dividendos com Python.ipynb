{
 "cells": [
  {
   "cell_type": "code",
   "execution_count": 1,
   "metadata": {},
   "outputs": [
    {
     "name": "stdout",
     "output_type": "stream",
     "text": [
      "Requirement already satisfied: pip in c:\\users\\work\\anaconda3\\lib\\site-packages (22.3.1)\n",
      "Note: you may need to restart the kernel to use updated packages.\n"
     ]
    }
   ],
   "source": [
    "pip install --upgrade pip"
   ]
  },
  {
   "cell_type": "markdown",
   "metadata": {},
   "source": [
    "### Site do Yahoo Finance para obter os codigos dos papéis:\n",
    "\n",
    "https://finance.yahoo.com/"
   ]
  },
  {
   "cell_type": "code",
   "execution_count": 2,
   "metadata": {},
   "outputs": [],
   "source": [
    "# Input das Informações Necessárias:\n",
    "papel = 'BBAS3.SA'\n",
    "anos  = 5\n",
    "percentual = 6 / 100.0"
   ]
  },
  {
   "cell_type": "code",
   "execution_count": 3,
   "metadata": {},
   "outputs": [
    {
     "name": "stdout",
     "output_type": "stream",
     "text": [
      "2022-12-27 2017-12-28\n"
     ]
    }
   ],
   "source": [
    "# Data Início = Data Fim (Hoje) - anos:\n",
    "from datetime import date, timedelta\n",
    "dtfim = date.today()\n",
    "dtini = dtfim - (anos * timedelta(365))\n",
    "print(dtfim, dtini)"
   ]
  },
  {
   "cell_type": "code",
   "execution_count": 4,
   "metadata": {
    "scrolled": true
   },
   "outputs": [
    {
     "name": "stdout",
     "output_type": "stream",
     "text": [
      "Note: you may need to restart the kernel to use updated packages.\n"
     ]
    },
    {
     "name": "stderr",
     "output_type": "stream",
     "text": [
      "ERROR: Invalid requirement: '#'\n"
     ]
    }
   ],
   "source": [
    "pip install yfinance \n",
    "# Instalando dependência do Yahoo Finance"
   ]
  },
  {
   "cell_type": "code",
   "execution_count": 5,
   "metadata": {},
   "outputs": [
    {
     "name": "stderr",
     "output_type": "stream",
     "text": [
      "C:\\Users\\Work\\Anaconda3\\lib\\site-packages\\pandas\\compat\\_optional.py:138: UserWarning: Pandas requires version '2.7.0' or newer of 'numexpr' (version '2.6.9' currently installed).\n",
      "  warnings.warn(msg, UserWarning)\n"
     ]
    }
   ],
   "source": [
    "import yfinance as yf\n",
    "import pandas as pd"
   ]
  },
  {
   "cell_type": "code",
   "execution_count": 6,
   "metadata": {},
   "outputs": [
    {
     "name": "stdout",
     "output_type": "stream",
     "text": [
      "[*********************100%***********************]  1 of 1 completed\n"
     ]
    }
   ],
   "source": [
    "# Trazendo dados do Papel do Yahoo Finance:\n",
    "df = yf.download(papel, start=dtini, end=dtfim, actions=True)\n",
    "# df"
   ]
  },
  {
   "cell_type": "code",
   "execution_count": 7,
   "metadata": {
    "scrolled": true
   },
   "outputs": [],
   "source": [
    "# Selecionando os dias onde houve pagamento de dividendos:\n",
    "dividendos = df.loc[df.Dividends != 0, 'Dividends']"
   ]
  },
  {
   "cell_type": "code",
   "execution_count": 8,
   "metadata": {},
   "outputs": [],
   "source": [
    "# Converte Index (Date) em Coluna:\n",
    "dividendos = dividendos.reset_index(level=0)"
   ]
  },
  {
   "cell_type": "code",
   "execution_count": 9,
   "metadata": {},
   "outputs": [],
   "source": [
    "# dividendos.dtypes"
   ]
  },
  {
   "cell_type": "code",
   "execution_count": 10,
   "metadata": {},
   "outputs": [],
   "source": [
    "# Somatorio dos dividendos por ano:\n",
    "dividendosAnual = dividendos.groupby(pd.Grouper(key='Date', freq='Y')).sum()\n",
    "# dividendosAnual.Dividends"
   ]
  },
  {
   "cell_type": "code",
   "execution_count": 11,
   "metadata": {},
   "outputs": [],
   "source": [
    "# Converte Index (Date) em Coluna:\n",
    "dividendosAnual = dividendosAnual.reset_index(level=0)\n",
    "# dividendosAnual.dtypes"
   ]
  },
  {
   "cell_type": "code",
   "execution_count": 12,
   "metadata": {},
   "outputs": [],
   "source": [
    "# Calcula Media:\n",
    "media = dividendosAnual['Dividends'].mean()\n",
    "# media"
   ]
  },
  {
   "cell_type": "code",
   "execution_count": 13,
   "metadata": {},
   "outputs": [],
   "source": [
    "# Preço Teto:\n",
    "precoTeto = media / percentual\n",
    "# precoTeto"
   ]
  },
  {
   "cell_type": "code",
   "execution_count": 14,
   "metadata": {
    "scrolled": true
   },
   "outputs": [],
   "source": [
    "# Cotações do Papel:\n",
    "cotacao = df.loc[df.Close != 0, 'Close']\n",
    "cotacao = cotacao.reset_index(level=0)\n",
    "# cotacao"
   ]
  },
  {
   "cell_type": "code",
   "execution_count": 15,
   "metadata": {},
   "outputs": [],
   "source": [
    "# cotacao['Date'].max()"
   ]
  },
  {
   "cell_type": "code",
   "execution_count": 16,
   "metadata": {},
   "outputs": [
    {
     "data": {
      "text/plain": [
       "1237    35.23\n",
       "Name: Close, dtype: float64"
      ]
     },
     "execution_count": 16,
     "metadata": {},
     "output_type": "execute_result"
    }
   ],
   "source": [
    "# Selecionando preço de fechamento, do registro de maior data:\n",
    "preco = cotacao.loc[cotacao.Date == cotacao['Date'].max() , 'Close']\n",
    "# preco"
   ]
  },
  {
   "cell_type": "code",
   "execution_count": 17,
   "metadata": {},
   "outputs": [],
   "source": [
    "# Convertendo preco para o mesmo formato do precoTeto:\n",
    "preco = preco.mean()\n",
    "# preco"
   ]
  },
  {
   "cell_type": "code",
   "execution_count": 18,
   "metadata": {},
   "outputs": [
    {
     "name": "stdout",
     "output_type": "stream",
     "text": [
      "BBAS3.SA: Cotação(35.23) < Teto(36.13) >> Compra!\n"
     ]
    }
   ],
   "source": [
    "# Decisao de Comprar ou Não:\n",
    "if preco <= precoTeto :\n",
    "    \n",
    "    print(papel + \": Cotação(\" +  \"%.2f\" % round(preco,2) + \") < Teto(\" +  \"%.2f\" % round(precoTeto,2) + \") >> Compra!\")\n",
    "else:\n",
    "    print(papel + \": Cotação(\" +  \"%.2f\" % round(preco,2) + \") > Teto(\" +  \"%.2f\" % round(precoTeto,2) + \") >> Não Compra!\")"
   ]
  }
 ],
 "metadata": {
  "kernelspec": {
   "display_name": "Python 3",
   "language": "python",
   "name": "python3"
  },
  "language_info": {
   "codemirror_mode": {
    "name": "ipython",
    "version": 3
   },
   "file_extension": ".py",
   "mimetype": "text/x-python",
   "name": "python",
   "nbconvert_exporter": "python",
   "pygments_lexer": "ipython3",
   "version": "3.7.3"
  }
 },
 "nbformat": 4,
 "nbformat_minor": 2
}
